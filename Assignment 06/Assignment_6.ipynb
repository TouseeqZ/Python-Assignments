{
 "cells": [
  {
   "cell_type": "markdown",
   "metadata": {},
   "source": [
    "You are tasked with developing a Python program to manage a student database. The user should be able to add new students or stop the input process by entering \"stop.\" Each student's name, along with a sequentially generated ID starting from 1, should be stored in a tuple, with these tuples kept in a list. The program must check for duplicate names before adding a new student and display a message if a duplicate is found. After the input process ends, the program should first display the complete list of student tuples and then display each student's ID and name individually. Additionally, the program should show the total number of students, calculate and display the total length of all student names combined, and identify the student with the longest and shortest name using appropriate operators. Implement these operations within a function named manage_student_database() and ensure you call this function at the end of your code.\n",
    "\n"
   ]
  },
  {
   "cell_type": "code",
   "execution_count": 79,
   "metadata": {},
   "outputs": [],
   "source": [
    "from typing import List\n",
    "\n",
    "def manage_student_database():\n",
    "    name:str ='0'\n",
    "    ID_num :int =0\n",
    "    student_list :List[str] = []\n",
    "    while(name!='stop'):\n",
    "        name: str = input(\"Please enter the student's name (or type 'stop' to finish):\")\n",
    "    # To avoid duplicacy\n",
    "        if name in student_list:\n",
    "            print(\"This name is already in the list\")\n",
    "        else:\n",
    "            if(name=='stop'):\n",
    "                break\n",
    "            ID_num+=1\n",
    "            student= f\"{ID_num} , {name}\"\n",
    "            student_list.append(student)\n",
    "    \n",
    "    return tuple(student_list)    \n",
    "# Assigning returned list to create a tuple list\n",
    "student_tuple :List[str]= manage_student_database()\n"
   ]
  },
  {
   "cell_type": "code",
   "execution_count": 82,
   "metadata": {},
   "outputs": [
    {
     "name": "stdout",
     "output_type": "stream",
     "text": [
      "Complete List of Students (Tuples):\n",
      "['1 , Touseeq', '2 , Haider', '3 , Syed', '4 , Zaidi']\n"
     ]
    }
   ],
   "source": [
    "#student_list :List[str] =[]\n",
    "#student_list =student_tuple\n",
    "stu_list :List[str] =[]\n",
    "for i in student_tuple:\n",
    "    stu_list.append(i)\n",
    "\n",
    "print(\"Complete List of Students (Tuples):\")\n",
    "print(stu_list) \n",
    " \n",
    "\n"
   ]
  },
  {
   "cell_type": "code",
   "execution_count": 91,
   "metadata": {},
   "outputs": [
    {
     "name": "stdout",
     "output_type": "stream",
     "text": [
      "List of Students with IDs:\n",
      "ID: 1, Name : Touseeq\n",
      "ID: 2, Name : Haider\n",
      "ID: 3, Name : Syed\n",
      "ID: 4, Name : Zaidi\n"
     ]
    }
   ],
   "source": [
    "# List of students with ID's\n",
    "print(f\"List of Students with IDs:\")\n",
    "char_total :int =0\n",
    "for i in range(len(stu_list)):\n",
    "    student_id, student_name = stu_list[i].split(' , ', 1)\n",
    "    char_total=char_total+len(student_name)\n",
    "    \n",
    "    print(f\"ID: {student_id}, Name : {student_name}\")\n"
   ]
  },
  {
   "cell_type": "code",
   "execution_count": 96,
   "metadata": {},
   "outputs": [
    {
     "name": "stdout",
     "output_type": "stream",
     "text": [
      "Total number of students: 4\n",
      "Total length of all student names combined: 22\n",
      "The student with the longest name is: 1 , Touseeq\n",
      "The student with the shortest name is: 3 , Syed\n"
     ]
    }
   ],
   "source": [
    "print(f\"Total number of students: {len(stu_list)}\")\n",
    "# Length of Total names Combined\n",
    "print(f\"Total length of all student names combined: {char_total}\")\n",
    "print(f\"The student with the longest name is: {max(stu_list,key=len)}\")\n",
    "print(f\"The student with the shortest name is: {min(stu_list,key=len)}\")"
   ]
  }
 ],
 "metadata": {
  "kernelspec": {
   "display_name": "Python 3",
   "language": "python",
   "name": "python3"
  },
  "language_info": {
   "codemirror_mode": {
    "name": "ipython",
    "version": 3
   },
   "file_extension": ".py",
   "mimetype": "text/x-python",
   "name": "python",
   "nbconvert_exporter": "python",
   "pygments_lexer": "ipython3",
   "version": "3.12.4"
  }
 },
 "nbformat": 4,
 "nbformat_minor": 2
}
