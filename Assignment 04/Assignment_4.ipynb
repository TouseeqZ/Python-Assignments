{
 "cells": [
  {
   "cell_type": "markdown",
   "metadata": {},
   "source": [
    "You are tasked with creating a Python program that serves as an interactive tool for a friend who enjoys exploring numbers. The program should begin by prompting the user to enter their name and then ask them for three of their favorite numbers. After gathering this information, the program should greet the user with a personalized message that includes their name. The three numbers provided by the user should be stored in a list. The program should then check if any of the numbers are even or odd, and store this information in a separate list of tuples, where each tuple contains the number and a string indicating whether it is \"even\" or \"odd\". Following this, the program should use a for loop to iterate over the list of numbers, and for each number, it should create a tuple containing the number and its square. These tuples should be printed in a creative and engaging format. Additionally, the program should calculate the sum of the three numbers and print the result, accompanied by an encouraging message. Finally, the program should determine if the sum is a prime number and notify the user with an appropriate message. The goal is to make the tool both enjoyable and informative, allowing the user to explore their favorite numbers in a fun and interactive way, while also introducing some interesting logical checks."
   ]
  },
  {
   "cell_type": "code",
   "execution_count": 29,
   "metadata": {},
   "outputs": [
    {
     "name": "stdout",
     "output_type": "stream",
     "text": [
      "Hello, Asmna Touseeq! Let's explore your favorite numbers\n",
      "('The number 8   is even', 'The number  17  is odd', 'The number  71  is odd')\n",
      "The number 8 and it's square :(8, 64)\n",
      "The number 17 and it's square :(17, 289)\n",
      "The number 71 and it's square :(71, 5041)\n",
      "Amazing! The sum of your favorite numbers is: 96\n",
      "No, 96 is not a prime number!\n"
     ]
    }
   ],
   "source": [
    "name :str = input(\"Enter your name\")\n",
    "num1 :int = input(\"Enter your first favourite number\")\n",
    "num2 :int = input(\"Enter your second favourite number\")\n",
    "num3 :int = input(\"Enter your third favourite number\")\n",
    "print(f\"Hello, {name}! Let's explore your favorite numbers\")\n",
    "num_l :list[int] = [num1,num2,num3]\n",
    "temp_l=[]\n",
    "for i in range(len(num_l)):\n",
    "    if(int(num_l[i])%2==0):\n",
    "        num_status= f'The number {num_l[i]}   is even'\n",
    "    else:\n",
    "        num_status= f'The number  {num_l[i]}  is odd'\n",
    "    temp_l.append(num_status)\n",
    "\n",
    "\n",
    "num_l_tuple =tuple(temp_l,)\n",
    "print(num_l_tuple)\n",
    "\n",
    "# Creating Squares of Numbers and creating list of tuples\n",
    "\n",
    "temp_l :list=[]\n",
    "temp :str\n",
    "sum :int=0\n",
    "for i in range(len(num_l)):\n",
    "    temp= f\"({num_l[i]}, {int(num_l[i])* int(num_l[i])})\"\n",
    "    temp_l.append(temp)\n",
    "    sum=sum+ int(num_l[i])\n",
    "\n",
    "\n",
    "square_tuple=tuple(temp_l)\n",
    "\n",
    "for i in range(len(num_l)):\n",
    "    print(f\"The number {num_l[i]} and it's square :{square_tuple[i]}\")\n",
    "\n",
    "print(f\"Amazing! The sum of your favorite numbers is: {sum}\")\n",
    "if(sum%2==0 and sum%3==3):\n",
    "    print(f\"Wow, {sum} is a prime number!\")\n",
    "else:\n",
    "    print(f\"No, {sum} is not a prime number!\")    \n"
   ]
  }
 ],
 "metadata": {
  "kernelspec": {
   "display_name": "Python 3",
   "language": "python",
   "name": "python3"
  },
  "language_info": {
   "codemirror_mode": {
    "name": "ipython",
    "version": 3
   },
   "file_extension": ".py",
   "mimetype": "text/x-python",
   "name": "python",
   "nbconvert_exporter": "python",
   "pygments_lexer": "ipython3",
   "version": "3.12.4"
  }
 },
 "nbformat": 4,
 "nbformat_minor": 2
}
