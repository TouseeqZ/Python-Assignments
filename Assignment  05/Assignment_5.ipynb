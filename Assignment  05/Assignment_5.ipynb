{
 "cells": [
  {
   "cell_type": "markdown",
   "metadata": {},
   "source": [
    "Task : High Low\n",
    "\n",
    "We want you to gain more experience working with control flow and Booleans in Python. To do this, we are going to have you develop a game! The game is called High-Low and the way it's played goes as follows:\n",
    "\n",
    "Two numbers are generated from 1 to 100 (inclusive on both ends): one for you and one for a computer, who will be your opponent. You can see your number, but not the computer's!\n",
    "You make a guess, saying your number is either higher than or lower than the computer's number\n",
    "If your guess matches the truth (ex. you guess your number is higher, and then your number is actually higher than the computer's), you get a point!\n",
    "These steps make up one round of the game. The game is over after all rounds have been played.\n",
    "\n"
   ]
  },
  {
   "cell_type": "code",
   "execution_count": 10,
   "metadata": {},
   "outputs": [
    {
     "name": "stdout",
     "output_type": "stream",
     "text": [
      "Welcome to the High-Low Game!\n",
      "...............................\n",
      "Round 1\n",
      "Your number is : 35\n",
      "Aww, that's incorrect. The computer's number was 40\n",
      "Your score is now -1\n",
      "..............................\n",
      "Round 2\n",
      "Your number is : 9\n",
      "You were right! The computer's number was 15\n",
      "Your score is now 0\n",
      "..............................\n",
      "Round 3\n",
      "Your number is : 45\n",
      "Aww, that's incorrect. The computer's number was 63\n",
      "Your score is now -1\n",
      "..............................\n",
      "Round 4\n",
      "Your number is : 35\n",
      "Aww, that's incorrect. The computer's number was 2\n",
      "Your score is now -2\n",
      "..............................\n",
      "Your  score is now : -2\n",
      "Better Luck next time \n"
     ]
    }
   ],
   "source": [
    "import random\n",
    "print(\"Welcome to the High-Low Game!\")\n",
    "print(\"...............................\")\n",
    "num_rounds :int= int(input(\"Enter number of rounds you want to play\"))\n",
    "count :int=1\n",
    "score :int=0\n",
    "# Rounding iteration starts\n",
    "while(count<=num_rounds):\n",
    "    print(f\"Round {count}\")\n",
    "    users_rand_num=random.randint(0,101)\n",
    "    computers_rand_num=random.randint(0,101)\n",
    "    user_choice :str = input(\"Do you think your number is higher or lower than the computer's: ?\").strip().lower()\n",
    "    \n",
    "    if(user_choice=='higher'):\n",
    "        print(f\"Your number is : {users_rand_num}\")\n",
    "        if(users_rand_num>computers_rand_num):\n",
    "            print(f\"You were right! The computer's number was {computers_rand_num}\")\n",
    "            score+=1\n",
    "        elif(users_rand_num<computers_rand_num):\n",
    "            print(f\"Aww, that's incorrect. The computer's number was {computers_rand_num}\")\n",
    "            score-=1\n",
    "        elif(users_rand_num==computers_rand_num):\n",
    "            print(f\"Both are same. The computer's number was {computers_rand_num}\")\n",
    "            score-=1\n",
    "                \n",
    "    elif(user_choice=='lower'):\n",
    "        print(f\"Your number is : {users_rand_num}\")\n",
    "        if(users_rand_num<computers_rand_num):\n",
    "            print(f\"You were right! The computer's number was {computers_rand_num}\")\n",
    "            score+=1\n",
    "        elif(users_rand_num>computers_rand_num):\n",
    "            print(f\"Aww, that's incorrect. The computer's number was {computers_rand_num}\")\n",
    "            score-=1\n",
    "        \n",
    "        elif(users_rand_num==computers_rand_num):\n",
    "            print(f\"Both are same. The computer's number was {computers_rand_num}\")\n",
    "            score-=1\n",
    "            \n",
    "    else:\n",
    "        print(f\"Invalid choice\")\n",
    "    \n",
    "    print(f\"Your score is now {score}\")\n",
    "    print(\"..............................\")\n",
    "    count+=1\n",
    "# Game Ends here\n",
    "    \n",
    "if(score==num_rounds):\n",
    "    print(f\"Congratulations! You are great player! You have won all the rounds\")\n",
    "\n",
    "elif(score>=5 and num_rounds<=8):\n",
    "    print(f\"Your  score is now : {score}\")\n",
    "    print(f\"Wow, You played perfectly , you won more half rounds\")\n",
    "elif(score<=5 and num_rounds>=8 or num_rounds<=8):\n",
    "    print(f\"Your  score is now : {score}\")\n",
    "    print(f\"Better Luck next time \")\n",
    "    \n",
    "\n",
    "\n",
    "\n"
   ]
  }
 ],
 "metadata": {
  "kernelspec": {
   "display_name": "Python 3",
   "language": "python",
   "name": "python3"
  },
  "language_info": {
   "codemirror_mode": {
    "name": "ipython",
    "version": 3
   },
   "file_extension": ".py",
   "mimetype": "text/x-python",
   "name": "python",
   "nbconvert_exporter": "python",
   "pygments_lexer": "ipython3",
   "version": "3.12.4"
  }
 },
 "nbformat": 4,
 "nbformat_minor": 2
}
